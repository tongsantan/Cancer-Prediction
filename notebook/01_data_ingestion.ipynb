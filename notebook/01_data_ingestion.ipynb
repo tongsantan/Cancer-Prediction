{
 "cells": [
  {
   "cell_type": "code",
   "execution_count": 1,
   "metadata": {},
   "outputs": [],
   "source": [
    "import os"
   ]
  },
  {
   "cell_type": "code",
   "execution_count": 2,
   "metadata": {},
   "outputs": [
    {
     "data": {
      "text/plain": [
       "'c:\\\\Users\\\\Vincent\\\\Desktop\\\\Cancer-Prediction-Trials\\\\notebook'"
      ]
     },
     "execution_count": 2,
     "metadata": {},
     "output_type": "execute_result"
    }
   ],
   "source": [
    "%pwd"
   ]
  },
  {
   "cell_type": "code",
   "execution_count": 3,
   "metadata": {},
   "outputs": [],
   "source": [
    "os.chdir(\"../\")"
   ]
  },
  {
   "cell_type": "code",
   "execution_count": 4,
   "metadata": {},
   "outputs": [
    {
     "data": {
      "text/plain": [
       "'c:\\\\Users\\\\Vincent\\\\Desktop\\\\Cancer-Prediction-Trials'"
      ]
     },
     "execution_count": 4,
     "metadata": {},
     "output_type": "execute_result"
    }
   ],
   "source": [
    "%pwd"
   ]
  },
  {
   "cell_type": "code",
   "execution_count": 5,
   "metadata": {},
   "outputs": [],
   "source": [
    "## 3. Update the entity\n",
    "\n",
    "from dataclasses import dataclass\n",
    "from pathlib import Path\n",
    "\n",
    "@dataclass(frozen=True)\n",
    "class DataIngestionConfig:\n",
    "    root_dir: Path\n",
    "    processed_data_path: Path\n",
    "    train_data_path: Path\n",
    "    test_data_path: Path\n",
    "\n"
   ]
  },
  {
   "cell_type": "code",
   "execution_count": 6,
   "metadata": {},
   "outputs": [],
   "source": [
    "## 3. Update the entity\n",
    "\n",
    "from src.constants import *\n",
    "from src.utils.common import read_yaml, create_directories"
   ]
  },
  {
   "cell_type": "code",
   "execution_count": 7,
   "metadata": {},
   "outputs": [],
   "source": [
    "## 4. Update the configuration manager in src config\n",
    "\n",
    "class ConfigurationManager:\n",
    "    def __init__(\n",
    "        self, \n",
    "        config_filepath = CONFIG_FILE_PATH):\n",
    "        \n",
    "        self.config = read_yaml(config_filepath)\n",
    "\n",
    "        create_directories([self.config.output_root])\n",
    "\n",
    "    def get_data_ingestion_config(self) -> DataIngestionConfig:\n",
    "        config = self.config.data_ingestion\n",
    "\n",
    "        create_directories([config.root_dir])\n",
    "\n",
    "        data_ingestion_config = DataIngestionConfig(\n",
    "            root_dir=config.root_dir,\n",
    "            processed_data_path=config.processed_data_path,\n",
    "            train_data_path=config.train_data_path,\n",
    "            test_data_path=config.test_data_path\n",
    "        )\n",
    "\n",
    "        return data_ingestion_config"
   ]
  },
  {
   "cell_type": "code",
   "execution_count": 8,
   "metadata": {},
   "outputs": [],
   "source": [
    "## 5. Update the components\n",
    "\n",
    "import sys\n",
    "from src.exception import CustomException\n",
    "from src import logger\n",
    "import pandas as pd\n",
    "import numpy as np\n",
    "from sklearn.datasets import load_breast_cancer\n",
    "from sklearn.model_selection import StratifiedShuffleSplit\n"
   ]
  },
  {
   "cell_type": "code",
   "execution_count": 9,
   "metadata": {},
   "outputs": [],
   "source": [
    "## 5. Update the components\n",
    "\n",
    "class DataIngestion:\n",
    "    def __init__(self, config: DataIngestionConfig):\n",
    "        self.config = config\n",
    "\n",
    "    def initiate_data_ingestion(self):\n",
    "        logger.info(\"Initiate data ingestion method or component\")\n",
    "\n",
    "        try:\n",
    "            df_bc = load_breast_cancer() \n",
    "            \n",
    "            data = np.c_[df_bc.data, df_bc.target]\n",
    "            \n",
    "            column_names = np.append(df_bc.feature_names, ['malignant'])\n",
    "            \n",
    "            df = pd.DataFrame(data, columns=column_names)\n",
    "\n",
    "            df = df.drop(columns = ['mean perimeter', 'mean area', 'worst radius', 'worst perimeter', 'worst area', 'fractal dimension error', 'mean fractal dimension','radius error',\n",
    "                        'texture error', 'smoothness error', 'symmetry error', 'worst texture', 'worst smoothness', 'worst compactness', 'worst concavity', 'worst concave points', \n",
    "                        'worst symmetry', 'worst fractal dimension', 'perimeter error', 'area error', 'concavity error', 'concave points error', 'compactness error'])\n",
    "            \n",
    "            df.columns = df.columns.str.replace(' ', '_')\n",
    "            \n",
    "            df['malignant'] = df['malignant'].map(lambda x: 1 if x != 1.0 else 0)\n",
    "            \n",
    "            os.makedirs(os.path.dirname(self.config.processed_data_path),exist_ok=True)\n",
    "            \n",
    "            df.to_csv(self.config.processed_data_path,index=False,header=True)\n",
    "\n",
    "            return(\n",
    "                self.config.processed_data_path\n",
    "            )\n",
    "        \n",
    "        except Exception as e:\n",
    "            raise CustomException(e,sys) \n",
    "\n",
    "    def complete_data_ingestion(self):\n",
    "        logger.info(\"Resume data ingestion method or component\") \n",
    "\n",
    "        try:\n",
    "            df=pd.read_csv(self.config.processed_data_path)\n",
    "            \n",
    "            logger.info('Read the dataset as dataframe')\n",
    "\n",
    "            strat_shuff_split = StratifiedShuffleSplit(n_splits=1, test_size=0.3, random_state=42)\n",
    "        \n",
    "            X = df.drop(columns=['malignant'],axis=1)\n",
    "            \n",
    "            y = df['malignant']\n",
    "            \n",
    "            train_idx, test_idx = next(strat_shuff_split.split(X, y))\n",
    "            \n",
    "            train_set = df.loc[train_idx]\n",
    "            \n",
    "            test_set = df.loc[test_idx]\n",
    "\n",
    "            logger.info(\"Train test split initiated\")\n",
    "\n",
    "            os.makedirs(os.path.dirname(self.config.train_data_path),exist_ok=True)\n",
    "\n",
    "            train_set.to_csv(self.config.train_data_path,index=False,header=True)\n",
    "\n",
    "            test_set.to_csv(self.config.test_data_path,index=False,header=True)\n",
    "\n",
    "            logger.info(\"Ingestion of the data is completed\")\n",
    "\n",
    "            return(\n",
    "                self.config.train_data_path,\n",
    "                self.config.test_data_path\n",
    "\n",
    "            )\n",
    "        except Exception as e:\n",
    "            raise CustomException(e,sys)\n",
    "\n"
   ]
  },
  {
   "cell_type": "code",
   "execution_count": 10,
   "metadata": {},
   "outputs": [
    {
     "name": "stdout",
     "output_type": "stream",
     "text": [
      "[2024-07-12 12:39:09,869: INFO: common: yaml file: config\\config.yaml loaded successfully]\n",
      "[2024-07-12 12:39:09,869: INFO: common: created directory at: output]\n",
      "[2024-07-12 12:39:09,869: INFO: common: created directory at: output/data_ingestion]\n",
      "[2024-07-12 12:39:09,869: INFO: 2862756393: Initiate data ingestion method or component]\n",
      "[2024-07-12 12:39:09,901: INFO: 2862756393: Resume data ingestion method or component]\n",
      "[2024-07-12 12:39:09,910: INFO: 2862756393: Read the dataset as dataframe]\n",
      "[2024-07-12 12:39:09,910: INFO: 2862756393: Train test split initiated]\n",
      "[2024-07-12 12:39:09,926: INFO: 2862756393: Ingestion of the data is completed]\n"
     ]
    }
   ],
   "source": [
    "## 6. Update the pipeline\n",
    "\n",
    "try:\n",
    "    config = ConfigurationManager()\n",
    "    data_ingestion_config = config.get_data_ingestion_config()\n",
    "    data_ingestion = DataIngestion(config=data_ingestion_config)\n",
    "    data_ingestion.initiate_data_ingestion()\n",
    "    data_ingestion.complete_data_ingestion()\n",
    "except Exception as e:\n",
    "  raise e"
   ]
  },
  {
   "cell_type": "code",
   "execution_count": null,
   "metadata": {},
   "outputs": [],
   "source": []
  },
  {
   "cell_type": "code",
   "execution_count": null,
   "metadata": {},
   "outputs": [],
   "source": []
  },
  {
   "cell_type": "code",
   "execution_count": null,
   "metadata": {},
   "outputs": [],
   "source": []
  },
  {
   "cell_type": "code",
   "execution_count": null,
   "metadata": {},
   "outputs": [],
   "source": []
  },
  {
   "cell_type": "code",
   "execution_count": null,
   "metadata": {},
   "outputs": [],
   "source": []
  }
 ],
 "metadata": {
  "kernelspec": {
   "display_name": "mlparamenv",
   "language": "python",
   "name": "python3"
  },
  "language_info": {
   "codemirror_mode": {
    "name": "ipython",
    "version": 3
   },
   "file_extension": ".py",
   "mimetype": "text/x-python",
   "name": "python",
   "nbconvert_exporter": "python",
   "pygments_lexer": "ipython3",
   "version": "3.8.19"
  }
 },
 "nbformat": 4,
 "nbformat_minor": 2
}
