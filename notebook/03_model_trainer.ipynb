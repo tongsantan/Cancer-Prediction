{
 "cells": [
  {
   "cell_type": "code",
   "execution_count": 1,
   "metadata": {},
   "outputs": [],
   "source": [
    "import os"
   ]
  },
  {
   "cell_type": "code",
   "execution_count": 2,
   "metadata": {},
   "outputs": [
    {
     "data": {
      "text/plain": [
       "'c:\\\\Users\\\\Vincent\\\\Desktop\\\\Cancer-Prediction-Trials\\\\notebook'"
      ]
     },
     "execution_count": 2,
     "metadata": {},
     "output_type": "execute_result"
    }
   ],
   "source": [
    "%pwd"
   ]
  },
  {
   "cell_type": "code",
   "execution_count": 3,
   "metadata": {},
   "outputs": [],
   "source": [
    "os.chdir(\"../\")"
   ]
  },
  {
   "cell_type": "code",
   "execution_count": 4,
   "metadata": {},
   "outputs": [
    {
     "data": {
      "text/plain": [
       "'c:\\\\Users\\\\Vincent\\\\Desktop\\\\Cancer-Prediction-Trials'"
      ]
     },
     "execution_count": 4,
     "metadata": {},
     "output_type": "execute_result"
    }
   ],
   "source": [
    "%pwd"
   ]
  },
  {
   "cell_type": "code",
   "execution_count": 5,
   "metadata": {},
   "outputs": [],
   "source": [
    "from dataclasses import dataclass\n",
    "from pathlib import Path\n",
    "\n",
    "@dataclass(frozen=True)\n",
    "class ModelTrainerConfig:\n",
    "    root_dir: Path\n",
    "    trained_model_file_path: Path\n",
    "    train_array_path: Path\n",
    "    test_array_path: Path"
   ]
  },
  {
   "cell_type": "code",
   "execution_count": 6,
   "metadata": {},
   "outputs": [],
   "source": [
    "from src.constants import *\n",
    "from src.utils.common import read_yaml, create_directories"
   ]
  },
  {
   "cell_type": "code",
   "execution_count": 7,
   "metadata": {},
   "outputs": [],
   "source": [
    "## Update the configuration manager in src config\n",
    "\n",
    "class ConfigurationManager:\n",
    "    def __init__(\n",
    "        self, \n",
    "        config_filepath = CONFIG_FILE_PATH):\n",
    "        \n",
    "        self.config = read_yaml(config_filepath)\n",
    "\n",
    "        create_directories([self.config.output_root])\n",
    "    \n",
    "    def get_model_trainer_config(self) -> ModelTrainerConfig:\n",
    "        config = self.config.model_trainer\n",
    "\n",
    "        create_directories([config.root_dir])\n",
    "\n",
    "        model_trainer_config = ModelTrainerConfig(\n",
    "            root_dir=config.root_dir,\n",
    "            trained_model_file_path=config.trained_model_file_path,\n",
    "            train_array_path=config.train_array_path,\n",
    "            test_array_path=config.test_array_path\n",
    "        )\n",
    "\n",
    "        return model_trainer_config"
   ]
  },
  {
   "cell_type": "code",
   "execution_count": 8,
   "metadata": {},
   "outputs": [],
   "source": [
    "import sys\n",
    "from sklearn.metrics import confusion_matrix\n",
    "from src.exception import CustomException\n",
    "from src import logger\n",
    "from src.utils.common import save_object,evaluate_models\n",
    "from src.params import params\n",
    "from src.models import models\n",
    "import warnings\n",
    "warnings.filterwarnings(\"ignore\")\n",
    "import numpy as np"
   ]
  },
  {
   "cell_type": "code",
   "execution_count": 9,
   "metadata": {},
   "outputs": [],
   "source": [
    "## 5. Update the components\n",
    "\n",
    "class ModelTrainer:\n",
    "    def __init__(self, config:ModelTrainerConfig):\n",
    "        self.config=config\n",
    "\n",
    "    def initiate_model_trainer(self):\n",
    "        try:\n",
    "            train_array=np.load(self.config.train_array_path)\n",
    "            test_array=np.load(self.config.test_array_path)\n",
    "            logger.info(\"Split training and test input data\")\n",
    "            X_train,y_train,X_test,y_test=(\n",
    "                train_array[:,:-1],\n",
    "                train_array[:,-1],\n",
    "                test_array[:,:-1],\n",
    "                test_array[:,-1]\n",
    "            )\n",
    "\n",
    "            model_report:dict=evaluate_models(X_train=X_train,y_train=y_train,X_test=X_test,y_test=y_test,\n",
    "                                             models=models(),param=params())\n",
    "            \n",
    "            ## To get best model score from dict\n",
    "            best_model_score = max(sorted(model_report.values()))\n",
    "\n",
    "            ## To get best model name from dict\n",
    "            best_model_name = list(model_report.keys())[\n",
    "                list(model_report.values()).index(best_model_score)\n",
    "            ]\n",
    "            best_model = models()[best_model_name]\n",
    "\n",
    "            if best_model_score<0.6:\n",
    "                raise CustomException(\"No best model found\")\n",
    "            logger.info(f\"Best found model on both training and testing dataset\")\n",
    "\n",
    "            save_object(\n",
    "                file_path=self.config.trained_model_file_path,\n",
    "                obj=best_model\n",
    "            )\n",
    "\n",
    "            best_model = best_model.fit(X_train, y_train)\n",
    "            \n",
    "            predicted=best_model.predict(X_test)\n",
    "\n",
    "            cm = confusion_matrix(y_test, predicted)\n",
    "\n",
    "            logger.info(f\"best model: {best_model_name}; best F1 score: {best_model_score}; confusion matrix: {cm};\")\n",
    "\n",
    "            return best_model_name, best_model_score, cm\n",
    "            \n",
    "\n",
    "        except Exception as e:\n",
    "            raise CustomException(e,sys)    "
   ]
  },
  {
   "cell_type": "code",
   "execution_count": 10,
   "metadata": {},
   "outputs": [
    {
     "name": "stdout",
     "output_type": "stream",
     "text": [
      "[2024-07-12 12:56:32,936: INFO: common: yaml file: config\\config.yaml loaded successfully]\n",
      "[2024-07-12 12:56:32,942: INFO: common: created directory at: output]\n",
      "[2024-07-12 12:56:32,944: INFO: common: created directory at: output/model_trainer]\n",
      "[2024-07-12 12:56:32,959: INFO: 2345049276: Split training and test input data]\n",
      "[2024-07-12 12:57:25,125: INFO: 2345049276: Best found model on both training and testing dataset]\n"
     ]
    }
   ],
   "source": [
    "## 6. Update the pipeline\n",
    "\n",
    "try:\n",
    "    config = ConfigurationManager()\n",
    "    model_trainer_config = config.get_model_trainer_config()\n",
    "    model_trainer = ModelTrainer(config=model_trainer_config)\n",
    "    model_trainer.initiate_model_trainer()\n",
    "except Exception as e:\n",
    "  raise e"
   ]
  },
  {
   "cell_type": "code",
   "execution_count": null,
   "metadata": {},
   "outputs": [],
   "source": []
  },
  {
   "cell_type": "code",
   "execution_count": null,
   "metadata": {},
   "outputs": [],
   "source": []
  },
  {
   "cell_type": "code",
   "execution_count": null,
   "metadata": {},
   "outputs": [],
   "source": []
  },
  {
   "cell_type": "code",
   "execution_count": null,
   "metadata": {},
   "outputs": [],
   "source": []
  },
  {
   "cell_type": "code",
   "execution_count": null,
   "metadata": {},
   "outputs": [],
   "source": []
  }
 ],
 "metadata": {
  "kernelspec": {
   "display_name": "mlparamenv",
   "language": "python",
   "name": "python3"
  },
  "language_info": {
   "codemirror_mode": {
    "name": "ipython",
    "version": 3
   },
   "file_extension": ".py",
   "mimetype": "text/x-python",
   "name": "python",
   "nbconvert_exporter": "python",
   "pygments_lexer": "ipython3",
   "version": "3.8.19"
  }
 },
 "nbformat": 4,
 "nbformat_minor": 2
}
